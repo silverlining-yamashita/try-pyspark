{
 "cells": [
  {
   "cell_type": "markdown",
   "metadata": {},
   "source": [
    "# デルタレイク クイックスタート Delta Lake Quickstart\n",
    "https://docs.delta.io/latest/quick-start.html#python\n",
    "\n",
    "# 本サンプルの目的 Ovjective\n",
    "データが毎回全量送られてくる、かつ、レコードが物理的に削除されている、そして、削除されたレコードを記録したいパターン<br>\n",
    "削除レコードの記録のために`delete_flg`を追加する<br>\n",
    "Pattern where data is sent in full each time, and records are physically deleted, and you want to record the deleted records.<br>\n",
    "Add `delete_flg` for recording deleted records\n",
    "\n",
    "# データ概要 Data Summary\n",
    "## ターゲットデータ Target data\n",
    "`/workspace/csv/vehicles_10.csv`<br>\n",
    "ターゲットデータは、永続化されたデルタテーブルで、Lakehouseとしての用途を想定している<br>\n",
    "Target data is a persistent delta table, intended for use as a Lakehouse\n",
    "| id | vin | name | manufacturer | type | model | fuel | color | description |\n",
    "| --- | --- | --- | --- | --- | --- | --- | --- | --- |\n",
    "| 1 | WDR5FBN83YTF11274 | Audi A8 | Dodge | Wagon | Prius | Electric | tan | still |\n",
    "| 2 | E66LYTEHD8EM39881 | Maserati Alpine | Mazda | Coupe | Sentra | Gasoline | white | still |\n",
    "| 3 | SM5T15RCMUX914093 | Porsche Volt | Lamborghini | Coupe | Element | Hybrid | blue | still |\n",
    "| 4 | APWJUTZNJ1ST99631 | Porsche Beetle | Honda | Crew Cab Pickup | Model 3 | Hybrid | orchid | delete |\n",
    "| 5 | K7K9L4AE3MLA82628 | Lamborghini Challenger | Mazda | Hatchback | XC90 | Diesel | blue | update |\n",
    "| 6 | AW2B2LL9VLWJ86253 | Kia Volt | Jeep | Minivan | Mustang | Hybrid | pink | delete |\n",
    "| 7 | UJSYPGEKULZE52088 | Kia Golf | Ford | Minivan | LeBaron | Hybrid | silver | update |\n",
    "| 8 | W02HDVA34UPF70822 | Ford Challenger | Polestar | Hatchback | Mercielago | Electric | orchid | delete |\n",
    "| 9 | GUC81JZZX1NB46693 | Land Rover Grand Cherokee | Mini | Sedan | Grand Cherokee | Hybrid | grey | update |\n",
    "| 10 | 46WJ12P00MHJ64331 | BMW Altima | Mercedes Benz | Hatchback | Altima | Gasoline | orchid | delete |\n",
    "\n",
    "## ソースデータ Source data\n",
    "`/workspace/csv/vehicles_13.csv`<br>\n",
    "ソースデータは、ELTの際に、ターゲットデータにデータを挿入する前にデータを挿入する一時テーブルとしての用途を想定している<br>\n",
    "一時テーブルなので、使い終わったら削除をしたいが、アンマネージドテーブルは削除ができないので要注意<br>\n",
    "※マネージドテーブルだと削除ができる<br>\n",
    "Source data is intended to be used as a temporary table to insert data before inserting data into target data during ELT<br>\n",
    "Since it is a temporary table, you want to delete it when you are done using it, but be aware that unmanaged tables cannot be deleted.<br>\n",
    "※Managed table allows deletion.\n",
    "| id | vin | name | manufacturer | type | model | fuel | color | description |\n",
    "| --- | --- | --- | --- | --- | --- | --- | --- | --- |\n",
    "| 1 | WDR5FBN83YTF11274 | Audi A8 | Dodge | Wagon | Prius | Electric | tan | still |\n",
    "| 2 | E66LYTEHD8EM39881 | Maserati Alpine | Mazda | Coupe | Sentra | Gasoline | white | still |\n",
    "| 3 | SM5T15RCMUX914093 | Porsche Volt | Lamborghini | Coupe | Element | Hybrid | blue | still |\n",
    "| 5 | K7K9L4AE3MLA82628 | Lamborghini Challenger | Mazda | 1 | 1 | 1 | 1 | update |\n",
    "| 7 | UJSYPGEKULZE52088 | Kia Golf | Ford | 1 | 1 | 1 | 1 | update |\n",
    "| 9 | GUC81JZZX1NB46693 | Land Rover Grand Cherokee | Mini | 1 | 1 | 1 | 1 | update |\n",
    "| 11 | CMMSJY81W1G260371 | Mini V90 | Maserati | Hatchback | Camry | Gasoline | mint green | insert |\n",
    "| 12 | B3AMC4Z9V1PU82625 | Kia V90 | Toyota | Coupe | Golf | Diesel | ivory | insert |\n",
    "| 13 | SC6J9XU0G5Z534144 | Chevrolet Model Y | Mercedes Benz | Wagon | Charger | Electric | magenta | insert |\n",
    "\n",
    "## 結果データ\n",
    "`/workspace/tables/vehicles_add_deleteflg`<br>\n",
    "ソースデータに存在しないレコードを、ターゲットデータに`delete_flg`を追加することで論理削除している<br>\n",
    "Logical deletion of records that do not exist in the source data by adding `delete_flg` to the target data\n",
    "| id | vin | name | manufacturer | type | model | fuel | color | description | delete_flg |\n",
    "| --- | --- | --- | --- | --- | --- | --- | --- | --- | --- |\n",
    "| 1 | WDR5FBN83YTF11274 | Audi A8 | Dodge | Wagon | Prius | Electric | tan | still | 0 |\n",
    "| 2 | E66LYTEHD8EM39881 | Maserati Alpine | Mazda | Coupe | Sentra | Gasoline | white | still | 0 |\n",
    "| 3 | SM5T15RCMUX914093 | Porsche Volt | Lamborghini | Coupe | Element | Hybrid | blue | still | 0 |\n",
    "| 4 | APWJUTZNJ1ST99631 | Porsche Beetle | Honda | Crew Cab Pickup | Model 3 | Hybrid | orchid | delete | 1 |\n",
    "| 5 | K7K9L4AE3MLA82628 | Lamborghini Challenger | Mazda | 1 | 1 | 1 | 1 | update | 0 |\n",
    "| 6 | AW2B2LL9VLWJ86253 | Kia Volt | Jeep | Minivan | Mustang | Hybrid | pink | delete | 1 |\n",
    "| 7 | UJSYPGEKULZE52088 | Kia Golf | Ford | 1 | 1 | 1 | 1 | update | 0 |\n",
    "| 8 | W02HDVA34UPF70822 | Ford Challenger | Polestar | Hatchback | Mercielago | Electric | orchid | delete | 1 |\n",
    "| 9 | GUC81JZZX1NB46693 | Land Rover Grand Cherokee | Mini | 1 | 1 | 1 | 1 | update | 0 |\n",
    "| 10 | 46WJ12P00MHJ64331 | BMW Altima | Mercedes Benz | Hatchback | Altima | Gasoline | orchid | delete | 1 |\n",
    "\n",
    "# 処理イメージ\n",
    "```mermaid\n",
    "flowchart TB\n",
    "  TD([name : Target data\\npath : /workspace/csv/vehicles_10.csv\\ntype : csv])\n",
    "  SD([name : Source data\\npath : /workspace/csv/vehicles_15.csv\\ntype : csv])\n",
    "\n",
    "  DFTD[name : csvDf\\ntype : dataformat]\n",
    "  DFSD[name : csvDfTmp\\ntype : dataformat]\n",
    "\n",
    "  DTTD[(name : products\\npath : /workspace/tables/vehicles_add_deleteflg\\ntype : Delta table)]\n",
    "  DTSD[(products_tmp\\n/workspace/tables/vehicles_add_deleteflg_tmp\\ntype : Delta table)]\n",
    "\n",
    "  TD-->|spark.read|DFTD\n",
    "  SD-->|spark.read|DFSD\n",
    "\n",
    "  DFTD-->|write\\noverwrite|DTTD\n",
    "  DFSD-->|write\\noverwrite|DTSD\n",
    "\n",
    "  DTSD-->|upsert & add delete_flg\\nkey = id\\n\\nソースデータにないレコードを\\ndelete_flgを追加して論理削除している|DTTD\n",
    "```\n",
    "※処理フローは要件によって変わってくるので、あくまでも参考とすること<br>\n",
    "The processing flow will vary depending on requirements and should be used as a reference only."
   ]
  },
  {
   "cell_type": "code",
   "execution_count": 1,
   "metadata": {},
   "outputs": [
    {
     "name": "stdout",
     "output_type": "stream",
     "text": [
      ":: loading settings :: url = jar:file:/usr/local/lib/python3.11/dist-packages/pyspark/jars/ivy-2.5.1.jar!/org/apache/ivy/core/settings/ivysettings.xml\n"
     ]
    },
    {
     "name": "stderr",
     "output_type": "stream",
     "text": [
      "Ivy Default Cache set to: /home/vscode/.ivy2/cache\n",
      "The jars for the packages stored in: /home/vscode/.ivy2/jars\n",
      "io.delta#delta-spark_2.12 added as a dependency\n",
      ":: resolving dependencies :: org.apache.spark#spark-submit-parent-c2585d08-b204-4cb8-847b-24f574a26163;1.0\n",
      "\tconfs: [default]\n",
      "\tfound io.delta#delta-spark_2.12;3.0.0 in central\n",
      "\tfound io.delta#delta-storage;3.0.0 in central\n",
      "\tfound org.antlr#antlr4-runtime;4.9.3 in central\n",
      ":: resolution report :: resolve 170ms :: artifacts dl 7ms\n",
      "\t:: modules in use:\n",
      "\tio.delta#delta-spark_2.12;3.0.0 from central in [default]\n",
      "\tio.delta#delta-storage;3.0.0 from central in [default]\n",
      "\torg.antlr#antlr4-runtime;4.9.3 from central in [default]\n",
      "\t---------------------------------------------------------------------\n",
      "\t|                  |            modules            ||   artifacts   |\n",
      "\t|       conf       | number| search|dwnlded|evicted|| number|dwnlded|\n",
      "\t---------------------------------------------------------------------\n",
      "\t|      default     |   3   |   0   |   0   |   0   ||   3   |   0   |\n",
      "\t---------------------------------------------------------------------\n",
      ":: retrieving :: org.apache.spark#spark-submit-parent-c2585d08-b204-4cb8-847b-24f574a26163\n",
      "\tconfs: [default]\n",
      "\t0 artifacts copied, 3 already retrieved (0kB/3ms)\n",
      "23/11/08 15:19:40 WARN NativeCodeLoader: Unable to load native-hadoop library for your platform... using builtin-java classes where applicable\n",
      "Setting default log level to \"WARN\".\n",
      "To adjust logging level use sc.setLogLevel(newLevel). For SparkR, use setLogLevel(newLevel).\n",
      "23/11/08 15:19:41 WARN Utils: Service 'SparkUI' could not bind on port 4040. Attempting port 4041.\n"
     ]
    }
   ],
   "source": [
    "import pyspark\n",
    "from delta import *\n",
    "from delta.tables import *\n",
    "import packages.modules as modules\n",
    "from pyspark.sql.functions import *\n",
    "from pyspark.sql.types import StringType, StructField, StructType\n",
    "\n",
    "builder = pyspark.sql.SparkSession.builder.appName(\"MyApp\") \\\n",
    "  .config(\"spark.sql.extensions\", \"io.delta.sql.DeltaSparkSessionExtension\") \\\n",
    "  .config(\"spark.sql.catalog.spark_catalog\", \"org.apache.spark.sql.delta.catalog.DeltaCatalog\")\n",
    "\n",
    "spark = configure_spark_with_delta_pip(builder).getOrCreate()\n",
    "spark.conf.set(\"spark.sql.debug.maxToStringFields\", 1000)\n",
    "\n",
    "workspace = \"/workspace\"\n",
    "file_name = \"vehicles_10\"\n",
    "file_name_tmp = \"vehicles_13\"\n",
    "file_ext = \".csv\"\n",
    "data_path = workspace + \"/csv/\" + file_name + file_ext\n",
    "data_path_tmp = workspace + \"/csv/\" + file_name_tmp + file_ext\n",
    "delta_table_name = \"vehicles_add_deleteflg\"\n",
    "delta_table_name_tmp = \"vehicles_add_deleteflg_tmp\"\n",
    "delta_table_path = workspace + \"/tables/\" + delta_table_name\n",
    "delta_table_path_tmp = workspace + \"/tables/\" + delta_table_name_tmp"
   ]
  },
  {
   "cell_type": "markdown",
   "metadata": {},
   "source": [
    "# 処理開始\n",
    "vehicles_10のcsvデータを取得し、`delete_flg`のカラムを追加する"
   ]
  },
  {
   "cell_type": "code",
   "execution_count": 2,
   "metadata": {},
   "outputs": [
    {
     "name": "stdout",
     "output_type": "stream",
     "text": [
      "root\n",
      " |-- id: string (nullable = true)\n",
      " |-- vin: string (nullable = true)\n",
      " |-- name: string (nullable = true)\n",
      " |-- manufacturer: string (nullable = true)\n",
      " |-- type: string (nullable = true)\n",
      " |-- model: string (nullable = true)\n",
      " |-- fuel: string (nullable = true)\n",
      " |-- color: string (nullable = true)\n",
      " |-- description: string (nullable = true)\n",
      " |-- delete_flg: integer (nullable = false)\n",
      "\n",
      "+---+-----------------+--------------------+-------------+---------------+--------------+--------+------+-----------+----------+\n",
      "| id|              vin|                name| manufacturer|           type|         model|    fuel| color|description|delete_flg|\n",
      "+---+-----------------+--------------------+-------------+---------------+--------------+--------+------+-----------+----------+\n",
      "|  1|WDR5FBN83YTF11274|             Audi A8|        Dodge|          Wagon|         Prius|Electric|   tan|      still|         0|\n",
      "|  2|E66LYTEHD8EM39881|     Maserati Alpine|        Mazda|          Coupe|        Sentra|Gasoline| white|      still|         0|\n",
      "|  3|SM5T15RCMUX914093|        Porsche Volt|  Lamborghini|          Coupe|       Element|  Hybrid|  blue|      still|         0|\n",
      "|  4|APWJUTZNJ1ST99631|      Porsche Beetle|        Honda|Crew Cab Pickup|       Model 3|  Hybrid|orchid|     delete|         0|\n",
      "|  5|K7K9L4AE3MLA82628|Lamborghini Chall...|        Mazda|      Hatchback|          XC90|  Diesel|  blue|     update|         0|\n",
      "|  6|AW2B2LL9VLWJ86253|            Kia Volt|         Jeep|        Minivan|       Mustang|  Hybrid|  pink|     delete|         0|\n",
      "|  7|UJSYPGEKULZE52088|            Kia Golf|         Ford|        Minivan|       LeBaron|  Hybrid|silver|     update|         0|\n",
      "|  8|W02HDVA34UPF70822|     Ford Challenger|     Polestar|      Hatchback|    Mercielago|Electric|orchid|     delete|         0|\n",
      "|  9|GUC81JZZX1NB46693|Land Rover Grand ...|         Mini|          Sedan|Grand Cherokee|  Hybrid|  grey|     update|         0|\n",
      "| 10|46WJ12P00MHJ64331|          BMW Altima|Mercedes Benz|      Hatchback|        Altima|Gasoline|orchid|     delete|         0|\n",
      "+---+-----------------+--------------------+-------------+---------------+--------------+--------+------+-----------+----------+\n",
      "\n"
     ]
    }
   ],
   "source": [
    "csvDf = spark.read.option(\"delimiter\", \",\").option(\"header\", \"true\").csv(data_path).withColumn(\"delete_flg\", lit(0))\n",
    "csvDf.printSchema()\n",
    "csvDf.show(100)"
   ]
  },
  {
   "cell_type": "markdown",
   "metadata": {},
   "source": [
    "product_15のcsvデータを取得し、`delete_flg`のカラムを追加する"
   ]
  },
  {
   "cell_type": "code",
   "execution_count": 3,
   "metadata": {},
   "outputs": [
    {
     "name": "stdout",
     "output_type": "stream",
     "text": [
      "root\n",
      " |-- id: string (nullable = true)\n",
      " |-- vin: string (nullable = true)\n",
      " |-- name: string (nullable = true)\n",
      " |-- manufacturer: string (nullable = true)\n",
      " |-- type: string (nullable = true)\n",
      " |-- model: string (nullable = true)\n",
      " |-- fuel: string (nullable = true)\n",
      " |-- color: string (nullable = true)\n",
      " |-- description: string (nullable = true)\n",
      " |-- delete_flg: integer (nullable = false)\n",
      "\n",
      "+---+-----------------+--------------------+-------------+---------+-------+--------+----------+-----------+----------+\n",
      "| id|              vin|                name| manufacturer|     type|  model|    fuel|     color|description|delete_flg|\n",
      "+---+-----------------+--------------------+-------------+---------+-------+--------+----------+-----------+----------+\n",
      "|  1|WDR5FBN83YTF11274|             Audi A8|        Dodge|    Wagon|  Prius|Electric|       tan|      still|         0|\n",
      "|  2|E66LYTEHD8EM39881|     Maserati Alpine|        Mazda|    Coupe| Sentra|Gasoline|     white|      still|         0|\n",
      "|  3|SM5T15RCMUX914093|        Porsche Volt|  Lamborghini|    Coupe|Element|  Hybrid|      blue|      still|         0|\n",
      "|  5|K7K9L4AE3MLA82628|Lamborghini Chall...|        Mazda|        1|      1|       1|         1|     update|         0|\n",
      "|  7|UJSYPGEKULZE52088|            Kia Golf|         Ford|        1|      1|       1|         1|     update|         0|\n",
      "|  9|GUC81JZZX1NB46693|Land Rover Grand ...|         Mini|        1|      1|       1|         1|     update|         0|\n",
      "| 11|CMMSJY81W1G260371|            Mini V90|     Maserati|Hatchback|  Camry|Gasoline|mint green|     insert|         0|\n",
      "| 12|B3AMC4Z9V1PU82625|             Kia V90|       Toyota|    Coupe|   Golf|  Diesel|     ivory|     insert|         0|\n",
      "| 13|SC6J9XU0G5Z534144|   Chevrolet Model Y|Mercedes Benz|    Wagon|Charger|Electric|   magenta|     insert|         0|\n",
      "+---+-----------------+--------------------+-------------+---------+-------+--------+----------+-----------+----------+\n",
      "\n"
     ]
    }
   ],
   "source": [
    "csvDfTmp = spark.read.option(\"delimiter\", \",\").option(\"header\", \"true\").csv(data_path_tmp).withColumn(\"delete_flg\", lit(0))\n",
    "csvDfTmp.printSchema()\n",
    "csvDfTmp.show(100)"
   ]
  },
  {
   "cell_type": "markdown",
   "metadata": {},
   "source": [
    "# デルタテーブルにデータを書き込む\n",
    "ローカル環境上で`saveAsTable`を使おうとすると、エラーが発生する。<br>\n",
    "原因は、今の所、調査中。<br>\n",
    "なので、`save`を使って、データを書き込んでいる。"
   ]
  },
  {
   "cell_type": "code",
   "execution_count": 4,
   "metadata": {},
   "outputs": [
    {
     "name": "stderr",
     "output_type": "stream",
     "text": [
      "                                                                                \r"
     ]
    }
   ],
   "source": [
    "csvDf.write\\\n",
    "  .format(\"delta\")\\\n",
    "  .mode(\"overwrite\")\\\n",
    "  .partitionBy(\"type\")\\\n",
    "  .save(delta_table_path)"
   ]
  },
  {
   "cell_type": "code",
   "execution_count": 5,
   "metadata": {},
   "outputs": [
    {
     "name": "stderr",
     "output_type": "stream",
     "text": [
      "                                                                                \r"
     ]
    }
   ],
   "source": [
    "csvDfTmp.write\\\n",
    "  .format(\"delta\")\\\n",
    "  .mode(\"overwrite\")\\\n",
    "  .partitionBy(\"type\")\\\n",
    "  .save(delta_table_path_tmp)"
   ]
  },
  {
   "cell_type": "markdown",
   "metadata": {},
   "source": [
    "# デルタテーブルをUpsert & delete_flogを追加する"
   ]
  },
  {
   "cell_type": "code",
   "execution_count": 6,
   "metadata": {},
   "outputs": [
    {
     "name": "stderr",
     "output_type": "stream",
     "text": [
      "                                                                                \r"
     ]
    }
   ],
   "source": [
    "deltaTable = DeltaTable.forPath(spark, delta_table_path)\n",
    "deltaTableTmp = DeltaTable.forPath(spark, delta_table_path_tmp)\n",
    "dfTemp = deltaTableTmp.toDF()\n",
    "\n",
    "deltaTable.alias(\"vehicles\")\\\n",
    "  .merge(\n",
    "    source = dfTemp.alias(\"tableTmp\"),\n",
    "    condition = \"vehicles.id = tableTmp.id\"\n",
    "  )\\\n",
    "  .whenMatchedUpdate(set =\n",
    "    {\n",
    "      \"id\": \"tableTmp.id\",\n",
    "      \"vin\": \"tableTmp.vin\",\n",
    "      \"name\": \"tableTmp.name\",\n",
    "      \"manufacturer\": \"tableTmp.manufacturer\",\n",
    "      \"type\": \"tableTmp.type\",\n",
    "      \"model\": \"tableTmp.model\",\n",
    "      \"fuel\": \"tableTmp.fuel\",\n",
    "      \"color\": \"tableTmp.color\",\n",
    "      \"description\": \"tableTmp.description\",\n",
    "      \"delete_flg\": lit(0)\n",
    "    }\n",
    "  )\\\n",
    "  .whenNotMatchedInsert(values =\n",
    "    {\n",
    "      \"id\": \"tableTmp.id\",\n",
    "      \"vin\": \"tableTmp.vin\",\n",
    "      \"name\": \"tableTmp.name\",\n",
    "      \"manufacturer\": \"tableTmp.manufacturer\",\n",
    "      \"type\": \"tableTmp.type\",\n",
    "      \"model\": \"tableTmp.model\",\n",
    "      \"fuel\": \"tableTmp.fuel\",\n",
    "      \"color\": \"tableTmp.color\",\n",
    "      \"description\": \"tableTmp.description\",\n",
    "      \"delete_flg\": lit(0)\n",
    "    }\n",
    "  )\\\n",
    "  .whenNotMatchedBySourceUpdate(\n",
    "    set = {\"delete_flg\": lit(1)}\n",
    "  )\\\n",
    "  .execute()"
   ]
  },
  {
   "cell_type": "markdown",
   "metadata": {},
   "source": [
    "# デルタテーブルを読み込む"
   ]
  },
  {
   "cell_type": "code",
   "execution_count": 7,
   "metadata": {},
   "outputs": [
    {
     "name": "stdout",
     "output_type": "stream",
     "text": [
      "+---+-----------------+--------------------+-------------+---------------+----------+--------+----------+-----------+----------+\n",
      "| id|              vin|                name| manufacturer|           type|     model|    fuel|     color|description|delete_flg|\n",
      "+---+-----------------+--------------------+-------------+---------------+----------+--------+----------+-----------+----------+\n",
      "|  1|WDR5FBN83YTF11274|             Audi A8|        Dodge|          Wagon|     Prius|Electric|       tan|      still|         0|\n",
      "|  2|E66LYTEHD8EM39881|     Maserati Alpine|        Mazda|          Coupe|    Sentra|Gasoline|     white|      still|         0|\n",
      "|  3|SM5T15RCMUX914093|        Porsche Volt|  Lamborghini|          Coupe|   Element|  Hybrid|      blue|      still|         0|\n",
      "|  4|APWJUTZNJ1ST99631|      Porsche Beetle|        Honda|Crew Cab Pickup|   Model 3|  Hybrid|    orchid|     delete|         1|\n",
      "|  5|K7K9L4AE3MLA82628|Lamborghini Chall...|        Mazda|              1|         1|       1|         1|     update|         0|\n",
      "|  6|AW2B2LL9VLWJ86253|            Kia Volt|         Jeep|        Minivan|   Mustang|  Hybrid|      pink|     delete|         1|\n",
      "|  7|UJSYPGEKULZE52088|            Kia Golf|         Ford|              1|         1|       1|         1|     update|         0|\n",
      "|  8|W02HDVA34UPF70822|     Ford Challenger|     Polestar|      Hatchback|Mercielago|Electric|    orchid|     delete|         1|\n",
      "|  9|GUC81JZZX1NB46693|Land Rover Grand ...|         Mini|              1|         1|       1|         1|     update|         0|\n",
      "| 10|46WJ12P00MHJ64331|          BMW Altima|Mercedes Benz|      Hatchback|    Altima|Gasoline|    orchid|     delete|         1|\n",
      "| 11|CMMSJY81W1G260371|            Mini V90|     Maserati|      Hatchback|     Camry|Gasoline|mint green|     insert|         0|\n",
      "| 12|B3AMC4Z9V1PU82625|             Kia V90|       Toyota|          Coupe|      Golf|  Diesel|     ivory|     insert|         0|\n",
      "| 13|SC6J9XU0G5Z534144|   Chevrolet Model Y|Mercedes Benz|          Wagon|   Charger|Electric|   magenta|     insert|         0|\n",
      "+---+-----------------+--------------------+-------------+---------------+----------+--------+----------+-----------+----------+\n",
      "\n"
     ]
    }
   ],
   "source": [
    "df = spark.read.format(\"delta\").load(delta_table_path)\n",
    "df.createOrReplaceTempView(delta_table_name)\n",
    "spark.conf.set('dq.val.delta_table_name', delta_table_name)\n",
    "spark.sql(\n",
    "  \"\"\"\n",
    "    SELECT\n",
    "      id,\n",
    "      vin,\n",
    "      name,\n",
    "      manufacturer,\n",
    "      type,\n",
    "      model,\n",
    "      fuel,\n",
    "      color,\n",
    "      description,\n",
    "      delete_flg\n",
    "    FROM ${dq.val.delta_table_name}\n",
    "    ORDER BY CAST(id AS BIGINT) ASC\n",
    "  \"\"\"\n",
    ").show(100)"
   ]
  }
 ],
 "metadata": {
  "kernelspec": {
   "display_name": "Python 3 (ipykernel)",
   "language": "python",
   "name": "python3"
  },
  "language_info": {
   "codemirror_mode": {
    "name": "ipython",
    "version": 3
   },
   "file_extension": ".py",
   "mimetype": "text/x-python",
   "name": "python",
   "nbconvert_exporter": "python",
   "pygments_lexer": "ipython3",
   "version": "3.11.2"
  }
 },
 "nbformat": 4,
 "nbformat_minor": 2
}
